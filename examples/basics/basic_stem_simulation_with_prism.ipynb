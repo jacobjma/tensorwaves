{
 "cells": [
  {
   "cell_type": "markdown",
   "metadata": {},
   "source": [
    "# STEM simulations with the PRISM algorithm"
   ]
  },
  {
   "cell_type": "code",
   "execution_count": 5,
   "metadata": {},
   "outputs": [
    {
     "name": "stdout",
     "output_type": "stream",
     "text": [
      "The autoreload extension is already loaded. To reload it, use:\n",
      "  %reload_ext autoreload\n"
     ]
    }
   ],
   "source": [
    "%load_ext autoreload\n",
    "%autoreload 2\n",
    "from ase.build import mx2\n",
    "from ase.io import read\n",
    "import numpy as np\n",
    "\n",
    "from tensorwaves.waves import PrismWaves\n",
    "from tensorwaves.potentials import Potential\n",
    "from tensorwaves.detect import RingDetector"
   ]
  },
  {
   "cell_type": "markdown",
   "metadata": {},
   "source": [
    "## Quick Simulation"
   ]
  },
  {
   "cell_type": "code",
   "execution_count": 6,
   "metadata": {},
   "outputs": [
    {
     "name": "stdout",
     "output_type": "stream",
     "text": [
      "Simulation super cell: [12.72       11.01584314  5.19      ]\n"
     ]
    }
   ],
   "source": [
    "atoms = read('../data/mos2.traj')\n",
    "\n",
    "cell = np.diag(atoms.get_cell())\n",
    "\n",
    "print('Simulation super cell:', cell)"
   ]
  },
  {
   "cell_type": "code",
   "execution_count": 8,
   "metadata": {},
   "outputs": [
    {
     "name": "stdout",
     "output_type": "stream",
     "text": [
      "Scanning [||||||||||||||||||||||||||||||||||||||||||||||||||] 837/837 \n"
     ]
    }
   ],
   "source": [
    "waves = PrismWaves(energy=80e3, cutoff=.02, interpolation=2, sampling=.1)\n",
    "\n",
    "S = waves.multislice(atoms)\n",
    "\n",
    "detector = RingDetector(inner=.05, outer=.2)\n",
    "\n",
    "scan = S.gridscan(start=(0,0), end=(cell[0] / 2, cell[1] / 2), sampling=.2, detectors=detector)"
   ]
  },
  {
   "cell_type": "code",
   "execution_count": 9,
   "metadata": {},
   "outputs": [
    {
     "data": {
      "image/png": "[encoded data removed]",
      "text/plain": [
       "<Figure size 252x186.138 with 4 Axes>"
      ]
     },
     "metadata": {
      "needs_background": "light"
     },
     "output_type": "display_data"
    }
   ],
   "source": [
    "image = scan.image()\n",
    "\n",
    "image.show()"
   ]
  },
  {
   "cell_type": "markdown",
   "metadata": {},
   "source": [
    "## Step-by-step Simulation"
   ]
  },
  {
   "cell_type": "markdown",
   "metadata": {},
   "source": [
    "### Set up unit cell"
   ]
  },
  {
   "cell_type": "code",
   "execution_count": null,
   "metadata": {},
   "outputs": [],
   "source": [
    "atoms = mx2(formula='MoS2', kind='2H', a=3.18, thickness=3.19)\n",
    "atoms *= (2,2,1)\n",
    "atoms.cell[1,0] = 0\n",
    "atoms.wrap()\n",
    "atoms *= (2,2,1)\n",
    "atoms.center(vacuum=1, axis=2)\n",
    "\n",
    "cell = np.diag(atoms.get_cell())\n",
    "\n",
    "from ase.io import write\n",
    "\n",
    "write('MoS2.traj',atoms)\n",
    "\n",
    "\n",
    "print(cell)"
   ]
  },
  {
   "cell_type": "markdown",
   "metadata": {},
   "source": [
    "### Create Potential"
   ]
  },
  {
   "cell_type": "code",
   "execution_count": null,
   "metadata": {},
   "outputs": [],
   "source": [
    "potential = Potential(atoms=atoms, parametrization='kirkland', num_slices=10, sampling=.1)\n",
    "\n",
    "potential.current_slice = 3\n",
    "\n",
    "potential.show(fig_scale=2)"
   ]
  },
  {
   "cell_type": "markdown",
   "metadata": {},
   "source": [
    "### Create Scattering Matrix"
   ]
  },
  {
   "cell_type": "code",
   "execution_count": null,
   "metadata": {
    "scrolled": false
   },
   "outputs": [],
   "source": [
    "waves = PrismWaves(energy=80e3, cutoff=.02, interpolation=1, gpts=potential.gpts, extent=potential.extent)\n",
    "S = waves.get_scattering_matrix()\n",
    "\n",
    "S = S.multislice(potential)"
   ]
  },
  {
   "cell_type": "markdown",
   "metadata": {},
   "source": [
    "### Set Aberrations & Examine Probe"
   ]
  },
  {
   "cell_type": "code",
   "execution_count": null,
   "metadata": {},
   "outputs": [],
   "source": [
    "S.position = (2,0)\n",
    "\n",
    "S.aberrations.parametrization.C10 = 10\n",
    "S.aperture.radius = .02\n",
    "\n",
    "probe = S.get_probe()\n",
    "probe.show(fig_scale=2, display_space='direct')"
   ]
  },
  {
   "cell_type": "code",
   "execution_count": null,
   "metadata": {},
   "outputs": [],
   "source": [
    "S.aberrations.parametrization.defocus"
   ]
  },
  {
   "cell_type": "markdown",
   "metadata": {},
   "source": [
    "### Create Detector"
   ]
  },
  {
   "cell_type": "code",
   "execution_count": null,
   "metadata": {},
   "outputs": [],
   "source": [
    "detector = RingDetector(inner=.05, outer=.2, gpts=S.gpts, extent=S.extent, energy=S.energy)\n",
    "\n",
    "detector.get_tensor().show(display_space='fourier')"
   ]
  },
  {
   "cell_type": "markdown",
   "metadata": {},
   "source": [
    "### Perform Grid Scan "
   ]
  },
  {
   "cell_type": "code",
   "execution_count": null,
   "metadata": {},
   "outputs": [],
   "source": [
    "start = (0,0)\n",
    "end = (cell[0,0]/2, cell[1,1]/2)\n",
    "\n",
    "scan = S.gridscan(start=(0,0), end=end, sampling=.2, detectors=detector)"
   ]
  },
  {
   "cell_type": "code",
   "execution_count": null,
   "metadata": {},
   "outputs": [],
   "source": [
    "image = scan.image()\n",
    "image.show(fig_scale=2)"
   ]
  },
  {
   "cell_type": "code",
   "execution_count": null,
   "metadata": {
    "scrolled": true
   },
   "outputs": [],
   "source": [
    "image.numpy()"
   ]
  }
 ],
 "metadata": {
  "kernelspec": {
   "display_name": "tensorwaves",
   "language": "python",
   "name": "tensorwaves"
  },
  "language_info": {
   "codemirror_mode": {
    "name": "ipython",
    "version": 3
   },
   "file_extension": ".py",
   "mimetype": "text/x-python",
   "name": "python",
   "nbconvert_exporter": "python",
   "pygments_lexer": "ipython3",
   "version": "3.6.7"
  }
 },
 "nbformat": 4,
 "nbformat_minor": 2
}
