{
 "cells": [
  {
   "cell_type": "markdown",
   "metadata": {},
   "source": [
    "# Thermal Diffuse Scattering"
   ]
  },
  {
   "cell_type": "code",
   "execution_count": 25,
   "metadata": {},
   "outputs": [
    {
     "name": "stdout",
     "output_type": "stream",
     "text": [
      "The autoreload extension is already loaded. To reload it, use:\n",
      "  %reload_ext autoreload\n"
     ]
    }
   ],
   "source": [
    "%load_ext autoreload\n",
    "%autoreload 2\n",
    "from ase.build import mx2\n",
    "from ase.visualize import view\n",
    "import numpy as np\n",
    "\n",
    "from tensorwaves.waves import PrismWaves\n",
    "from tensorwaves.potentials import Potential\n",
    "from tensorwaves.detect import RingDetector\n",
    "from tensorwaves.tds import TDS\n",
    "\n",
    "import matplotlib.pyplot as plt"
   ]
  },
  {
   "cell_type": "code",
   "execution_count": 33,
   "metadata": {},
   "outputs": [
    {
     "name": "stdout",
     "output_type": "stream",
     "text": [
      "[12.72       11.01584314  5.19      ]\n"
     ]
    }
   ],
   "source": [
    "atoms = mx2(formula='MoS2', kind='2H', a=3.18, thickness=3.19)\n",
    "atoms *= (2,2,1)\n",
    "atoms.cell[1,0] = 0\n",
    "atoms.wrap()\n",
    "atoms *= (2,2,1)\n",
    "atoms.center(vacuum=1, axis=2)\n",
    "cell = np.diag(atoms.get_cell())\n",
    "print(cell)"
   ]
  },
  {
   "cell_type": "code",
   "execution_count": 107,
   "metadata": {},
   "outputs": [],
   "source": [
    "tds = TDS(atoms, {'Mo':.3, 'S':.3}, 30)\n",
    "displaced = tds.get_displaced_atoms()\n",
    "view(displaced)"
   ]
  },
  {
   "cell_type": "code",
   "execution_count": 108,
   "metadata": {},
   "outputs": [
    {
     "name": "stdout",
     "output_type": "stream",
     "text": [
      "Scanning [||||||||||||||||||||||||||||||||||||||||||||||||||] 837/837 \n"
     ]
    }
   ],
   "source": [
    "images = []\n",
    "\n",
    "for displaced in tds.generate():\n",
    "    waves = PrismWaves(energy=80e3, cutoff=.02, interpolation=2, sampling=.1)\n",
    "    S = waves.multislice(displaced)\n",
    "    scan = S.gridscan(start=(0,0), end=(cell[0]/2, cell[1]/2), sampling=.2,\n",
    "                       detectors=RingDetector(inner=.05, outer=.2))\n",
    "    \n",
    "    images.append(scan.image().numpy()[0])"
   ]
  },
  {
   "cell_type": "code",
   "execution_count": 112,
   "metadata": {},
   "outputs": [
    {
     "data": {
      "image/png": "[encoded data removed]",
      "text/plain": [
       "<Figure size 432x288 with 2 Axes>"
      ]
     },
     "metadata": {
      "needs_background": "light"
     },
     "output_type": "display_data"
    }
   ],
   "source": [
    "fig,(ax1,ax2) = plt.subplots(1,2)\n",
    "ax1.imshow(images[0])\n",
    "ax2.imshow(np.mean(images, axis=0));"
   ]
  }
 ],
 "metadata": {
  "kernelspec": {
   "display_name": "tensorwaves",
   "language": "python",
   "name": "tensorwaves"
  },
  "language_info": {
   "codemirror_mode": {
    "name": "ipython",
    "version": 3
   },
   "file_extension": ".py",
   "mimetype": "text/x-python",
   "name": "python",
   "nbconvert_exporter": "python",
   "pygments_lexer": "ipython3",
   "version": "3.6.7"
  }
 },
 "nbformat": 4,
 "nbformat_minor": 2
}
