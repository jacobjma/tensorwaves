{
 "cells": [
  {
   "cell_type": "markdown",
   "metadata": {},
   "source": [
    "# Single Atom Relative Peak Intensities with STEM"
   ]
  },
  {
   "cell_type": "code",
   "execution_count": 1,
   "metadata": {},
   "outputs": [],
   "source": [
    "%load_ext autoreload\n",
    "%autoreload 2\n",
    "from tensorwaves.waves import ProbeWaves\n",
    "from ase import Atoms\n",
    "from tensorwaves.potentials import Potential\n",
    "from tensorwaves.detect import RingDetector\n",
    "import numpy as np"
   ]
  },
  {
   "cell_type": "code",
   "execution_count": 2,
   "metadata": {},
   "outputs": [
    {
     "data": {
      "text/plain": [
       "<matplotlib.axes._subplots.AxesSubplot at 0x132c50e198>"
      ]
     },
     "execution_count": 2,
     "metadata": {},
     "output_type": "execute_result"
    },
    {
     "data": {
      "image/png": "[encoded data removed]",
      "text/plain": [
       "<Figure size 252x216 with 4 Axes>"
      ]
     },
     "metadata": {
      "needs_background": "light"
     },
     "output_type": "display_data"
    }
   ],
   "source": [
    "waves = ProbeWaves(extent=10, sampling=.05, energy=60e3, positions=[5,5])\n",
    "\n",
    "waves.gaussian_envelope.width = [.02,]\n",
    "waves.gaussian_envelope.scale = [1.,]\n",
    "\n",
    "waves.build().show()"
   ]
  },
  {
   "cell_type": "code",
   "execution_count": 31,
   "metadata": {},
   "outputs": [
    {
     "data": {
      "text/plain": [
       "<tensorwaves.waves.TensorWaves at 0x12c04fb00>"
      ]
     },
     "execution_count": 31,
     "metadata": {},
     "output_type": "execute_result"
    }
   ],
   "source": [
    "waves._tensor"
   ]
  },
  {
   "cell_type": "code",
   "execution_count": 3,
   "metadata": {},
   "outputs": [
    {
     "name": "stdout",
     "output_type": "stream",
     "text": [
      "Scanning [||||||||||||||||||||||||||||||||||||||||||||||||||] 1/1 \n"
     ]
    }
   ],
   "source": [
    "element_a = 'C'\n",
    "element_b = 'C'\n",
    "\n",
    "detector = RingDetector(inner=.06, outer=.2)\n",
    "\n",
    "scan_a = waves.custom_scan(potential=Atoms(element_a, positions=[(5,5,5)], cell=(10,10,10)), \n",
    "                           max_batch=1, positions=np.array([[5,5.]]), detectors=detector)\n",
    "\n",
    "scan_b = waves.custom_scan(potential=Atoms(element_a, positions=[(5,5,5)], cell=(10,10,10)), \n",
    "                           max_batch=1, positions=np.array([[5,5.]]), detectors=detector)\n",
    "\n",
    "scan_c = waves.custom_scan(potential=Atoms(element_a, positions=[(5,5,5)], cell=(10,10,10)), \n",
    "                           max_batch=1, positions=np.array([[5,5.]]), detectors=detector)"
   ]
  },
  {
   "cell_type": "code",
   "execution_count": 4,
   "metadata": {},
   "outputs": [
    {
     "name": "stdout",
     "output_type": "stream",
     "text": [
      "[0.00121922] [0.00121922] [0.00121922]\n"
     ]
    }
   ],
   "source": [
    "print(scan_a.numpy(), scan_b.numpy(), scan_c.numpy())"
   ]
  }
 ],
 "metadata": {
  "kernelspec": {
   "display_name": "tensorwaves",
   "language": "python",
   "name": "tensorwaves"
  },
  "language_info": {
   "codemirror_mode": {
    "name": "ipython",
    "version": 3
   },
   "file_extension": ".py",
   "mimetype": "text/x-python",
   "name": "python",
   "nbconvert_exporter": "python",
   "pygments_lexer": "ipython3",
   "version": "3.6.7"
  }
 },
 "nbformat": 4,
 "nbformat_minor": 2
}
