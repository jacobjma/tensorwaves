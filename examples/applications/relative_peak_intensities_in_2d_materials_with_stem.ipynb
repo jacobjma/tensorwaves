{
 "cells": [
  {
   "cell_type": "markdown",
   "metadata": {},
   "source": [
    "# Relative Peak Intensities in 2D materials with STEM"
   ]
  },
  {
   "cell_type": "code",
   "execution_count": 164,
   "metadata": {},
   "outputs": [
    {
     "name": "stdout",
     "output_type": "stream",
     "text": [
      "The autoreload extension is already loaded. To reload it, use:\n",
      "  %reload_ext autoreload\n"
     ]
    }
   ],
   "source": [
    "%load_ext autoreload\n",
    "%autoreload 2\n",
    "from ase.build import mx2\n",
    "from ase.io import read\n",
    "import numpy as np\n",
    "\n",
    "from tensorwaves.waves import ProbeWaves\n",
    "from tensorwaves.potentials import Potential\n",
    "from tensorwaves.detect import RingDetector\n",
    "from tensorwaves.analyse import cluster_columns, plot_columns\n",
    "\n",
    "import matplotlib.pyplot as plt\n",
    "import matplotlib.patches as patches\n",
    "from ase.visualize import view"
   ]
  },
  {
   "cell_type": "markdown",
   "metadata": {},
   "source": [
    "## Import/Create Atoms"
   ]
  },
  {
   "cell_type": "code",
   "execution_count": null,
   "metadata": {},
   "outputs": [],
   "source": [
    "from ase.build import mx2\n",
    "\n",
    "\n",
    "hbn = mx2(formula='MoS2', kind='2H', a=3.18, thickness=3.19, size=(1, 1, 1), vacuum=None)"
   ]
  },
  {
   "cell_type": "code",
   "execution_count": 654,
   "metadata": {},
   "outputs": [],
   "source": [
    "atoms = read('../data/graphene.traj')\n",
    "\n",
    "#atoms[0].symbol = 'B'\n",
    "#atoms[2].symbol = 'B'\n",
    "#atoms[1].symbol = 'N'\n",
    "#atoms[3].symbol = 'N'\n",
    "atoms.cell[2,2]=2.5\n",
    "atoms.center()\n",
    "\n",
    "atoms *= (5,3,1)\n",
    "\n",
    "atoms[15].symbol = 'Si'\n",
    "\n",
    "#atoms[15].symbol = 'C'\n",
    "#atoms[19].symbol = 'O'\n",
    "\n",
    "view(atoms)"
   ]
  },
  {
   "cell_type": "code",
   "execution_count": 540,
   "metadata": {},
   "outputs": [],
   "source": [
    "atoms = mx2(formula='MoS2', kind='2H', a=3.18, thickness=3.19)\n",
    "atoms *= (2,2,1)\n",
    "atoms.cell[1,0] = 0\n",
    "atoms.wrap()\n",
    "atoms *= (2,2,1)\n",
    "atoms.center(vacuum=1, axis=2)\n",
    "\n",
    "atoms[36].symbol = 'Si'"
   ]
  },
  {
   "cell_type": "markdown",
   "metadata": {},
   "source": [
    "## Classify Atomic Columns"
   ]
  },
  {
   "cell_type": "code",
   "execution_count": 571,
   "metadata": {
    "scrolled": false
   },
   "outputs": [
    {
     "data": {
      "text/plain": [
       "(0.04507228195937829,\n",
       " 12.254927718040623,\n",
       " 0.11673383215147981,\n",
       " 12.665801127706835)"
      ]
     },
     "execution_count": 571,
     "metadata": {},
     "output_type": "execute_result"
    },
    {
     "data": {
      "image/png": "[encoded data removed]",
      "text/plain": [
       "<Figure size 432x288 with 1 Axes>"
      ]
     },
     "metadata": {
      "needs_background": "light"
     },
     "output_type": "display_data"
    }
   ],
   "source": [
    "column_positions, labels, types = cluster_columns(atoms, tol=1e-2, longitudinal_ordering=False)\n",
    "\n",
    "fig, ax = plt.subplots()\n",
    "for i, label in enumerate(np.unique(labels)):\n",
    "    ax.scatter(*column_positions[label == labels].T, label=types[i], s=100)\n",
    "\n",
    "ax.legend()\n",
    "ax.axis('equal')"
   ]
  },
  {
   "cell_type": "markdown",
   "metadata": {},
   "source": [
    "## Simulate Column Positions"
   ]
  },
  {
   "cell_type": "code",
   "execution_count": 545,
   "metadata": {},
   "outputs": [],
   "source": [
    "potential = Potential(atoms, tolerance=1e-3)"
   ]
  },
  {
   "cell_type": "code",
   "execution_count": 634,
   "metadata": {},
   "outputs": [
    {
     "data": {
      "text/plain": [
       "<matplotlib.axes._subplots.AxesSubplot at 0x1344f9d390>"
      ]
     },
     "execution_count": 634,
     "metadata": {},
     "output_type": "execute_result"
    },
    {
     "data": {
      "image/png": "[encoded data removed]",
      "text/plain": [
       "<Figure size 252x216 with 4 Axes>"
      ]
     },
     "metadata": {
      "needs_background": "light"
     },
     "output_type": "display_data"
    }
   ],
   "source": [
    "aberrations = {'C10': 0}\n",
    "\n",
    "probe = ProbeWaves(energy=60e3, aperture_radius=.005, aperture_rolloff=.025, sampling=.05, \n",
    "                   extent=20, **aberrations)\n",
    "probe.positions = (10,10)\n",
    "probe.get_tensor().show()"
   ]
  },
  {
   "cell_type": "code",
   "execution_count": 635,
   "metadata": {},
   "outputs": [],
   "source": [
    "\n",
    "def fwhm(intensity, extent):\n",
    "    argmax = np.argmax(intensity)\n",
    "    hm = intensity[argmax] / 2\n",
    "    \n",
    "    x = np.linspace(0, extent, len(intensity))\n",
    "    x_min = x[np.argmin(np.abs(intensity[:argmax] - hm))]\n",
    "    x_max = x[np.argmin(np.abs(intensity[argmax:] - hm)) + argmax]\n",
    "    \n",
    "    return x_max - x_min\n"
   ]
  },
  {
   "cell_type": "code",
   "execution_count": 636,
   "metadata": {},
   "outputs": [
    {
     "data": {
      "text/plain": [
       "1.2030075187969906"
      ]
     },
     "execution_count": 636,
     "metadata": {},
     "output_type": "execute_result"
    }
   ],
   "source": [
    "i = probe.get_tensor().image().numpy()[0,200]\n",
    "\n",
    "\n",
    "\n",
    "fwhm(i, 20)\n",
    "\n",
    "#plt.plot(x,i)"
   ]
  },
  {
   "cell_type": "code",
   "execution_count": 648,
   "metadata": {},
   "outputs": [
    {
     "name": "stdout",
     "output_type": "stream",
     "text": [
      "Multislice [||||||||||||||||||||||||||||||||||||||||||||||||||] 4/4 \n"
     ]
    }
   ],
   "source": [
    "probe.clear_grid()\n",
    "probe.sampling= .02\n",
    "\n",
    "detector = RingDetector(inner=.058, outer=.2)\n",
    "\n",
    "scan = probe.custom_scan(atoms, 2000, column_positions, detectors=detector)"
   ]
  },
  {
   "cell_type": "markdown",
   "metadata": {},
   "source": [
    "## Calculate Relative Intensities"
   ]
  },
  {
   "cell_type": "code",
   "execution_count": 649,
   "metadata": {},
   "outputs": [
    {
     "data": {
      "text/plain": [
       "{'C': array([0.00084887, 0.00084798, 0.00084876, 0.00084787, 0.00084874,\n",
       "        0.00085261, 0.00084886, 0.00084797, 0.00084889, 0.00084877,\n",
       "        0.00084788, 0.00085277, 0.00084869, 0.00084779, 0.00085267,\n",
       "        0.00084879, 0.00084888, 0.00085275, 0.00084895, 0.00085282,\n",
       "        0.00085278, 0.00085288, 0.00084776, 0.00085265, 0.00084799,\n",
       "        0.00085276, 0.00086423, 0.00085305, 0.00085297, 0.00085288,\n",
       "        0.00084815, 0.00085296, 0.00085257, 0.00085269, 0.00084804,\n",
       "        0.00084781, 0.00084791, 0.00084813, 0.00084798, 0.0008482 ,\n",
       "        0.00084817, 0.00084891, 0.00085276, 0.00084804, 0.00084891,\n",
       "        0.00084903, 0.00085282, 0.00084845, 0.00086572, 0.00084836,\n",
       "        0.00086562, 0.00084797, 0.00084884, 0.00085281, 0.00084909,\n",
       "        0.00085278, 0.00085286, 0.00084883, 0.0008489 ], dtype=float32),\n",
       " 'Si': array([0.00399664], dtype=float32)}"
      ]
     },
     "execution_count": 649,
     "metadata": {},
     "output_type": "execute_result"
    }
   ],
   "source": [
    "intensities = scan.numpy()\n",
    "\n",
    "column_intensities = {}\n",
    "for i, label in enumerate(np.unique(labels)):\n",
    "    column_intensities[types[i]] = intensities[label == labels]\n",
    "\n",
    "column_intensities"
   ]
  },
  {
   "cell_type": "code",
   "execution_count": 650,
   "metadata": {},
   "outputs": [
    {
     "data": {
      "text/plain": [
       "<matplotlib.colorbar.Colorbar at 0x13482c0e80>"
      ]
     },
     "execution_count": 650,
     "metadata": {},
     "output_type": "execute_result"
    },
    {
     "data": {
      "image/png": "[encoded data removed]",
      "text/plain": [
       "<Figure size 432x288 with 2 Axes>"
      ]
     },
     "metadata": {
      "needs_background": "light"
     },
     "output_type": "display_data"
    }
   ],
   "source": [
    "plt.scatter(*column_positions[labels==0].T, c=intensities[labels==0])\n",
    "plt.colorbar()"
   ]
  },
  {
   "cell_type": "code",
   "execution_count": 651,
   "metadata": {},
   "outputs": [
    {
     "data": {
      "text/plain": [
       "{'C/Si': 0.21286742}"
      ]
     },
     "execution_count": 651,
     "metadata": {},
     "output_type": "execute_result"
    }
   ],
   "source": [
    "ratios = {}\n",
    "for combination in combinations(types, 2):\n",
    "    intensity_1 = np.mean(column_intensities[combination[0]])\n",
    "    intensity_2 = np.mean(column_intensities[combination[1]])\n",
    "    \n",
    "    order = np.argsort((intensity_1, intensity_2))\n",
    "    ratio = (intensity_1, intensity_2)[order[0]] / (intensity_1, intensity_2)[order[1]]\n",
    "    ratios['/'.join([combination[i] for i in order])] = ratio\n",
    "\n",
    "ratios"
   ]
  },
  {
   "cell_type": "code",
   "execution_count": 652,
   "metadata": {},
   "outputs": [
    {
     "data": {
      "text/plain": [
       "{'C/Si': 1.8259053790972526}"
      ]
     },
     "execution_count": 652,
     "metadata": {},
     "output_type": "execute_result"
    }
   ],
   "source": [
    "from scipy.optimize import minimize_scalar\n",
    "from ase.symbols import string2symbols, symbols2numbers\n",
    "\n",
    "power_law = {}\n",
    "for ratio_name, ratio in ratios.items():\n",
    "    Z_1 = sum(symbols2numbers(string2symbols(ratio_name.split('/')[0])))\n",
    "    Z_2 = sum(symbols2numbers(string2symbols(ratio_name.split('/')[1])))\n",
    "    \n",
    "    eq = lambda n: ((Z_1 / Z_2) ** n - ratio) ** 2\n",
    "    \n",
    "    power_law[ratio_name] = minimize_scalar(eq).x\n",
    "\n",
    "power_law"
   ]
  },
  {
   "cell_type": "code",
   "execution_count": 653,
   "metadata": {},
   "outputs": [
    {
     "name": "stdout",
     "output_type": "stream",
     "text": [
      "\t mean \t \t st.d.\n",
      "C \t 1.000000 \t 3.934e-06\n",
      "Si \t 4.697760 \t 0.000e+00\n",
      "\n",
      "\t ratios\n",
      "C/Si \t 0.21286742\n",
      "\n",
      "\t n\n",
      "C/Si \t 1.8259053790972526\n"
     ]
    }
   ],
   "source": [
    "minimum_intensity = min([np.mean(values) for values in column_intensities.values()])\n",
    "\n",
    "print('\\t', 'mean', '\\t', '\\t', 'st.d.')\n",
    "for key, value in column_intensities.items():\n",
    "    print('{} \\t {:.6f} \\t {:.3e}'.format(key, np.mean(value) / minimum_intensity, np.std(value)))\n",
    "\n",
    "print()\n",
    "print('\\t', 'ratios')\n",
    "for key, value in ratios.items():\n",
    "    print(key, '\\t', value)\n",
    "\n",
    "print()\n",
    "print('\\t', 'n')\n",
    "for key, value in power_law.items():\n",
    "    print(key, '\\t', value)"
   ]
  }
 ],
 "metadata": {
  "kernelspec": {
   "display_name": "tensorwaves",
   "language": "python",
   "name": "tensorwaves"
  },
  "language_info": {
   "codemirror_mode": {
    "name": "ipython",
    "version": 3
   },
   "file_extension": ".py",
   "mimetype": "text/x-python",
   "name": "python",
   "nbconvert_exporter": "python",
   "pygments_lexer": "ipython3",
   "version": "3.6.7"
  }
 },
 "nbformat": 4,
 "nbformat_minor": 2
}
