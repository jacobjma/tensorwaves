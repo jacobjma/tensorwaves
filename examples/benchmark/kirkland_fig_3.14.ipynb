{
 "cells": [
  {
   "cell_type": "markdown",
   "metadata": {},
   "source": [
    "# Kirkland Fig. 3.14"
   ]
  },
  {
   "cell_type": "code",
   "execution_count": 8,
   "metadata": {},
   "outputs": [
    {
     "name": "stdout",
     "output_type": "stream",
     "text": [
      "The autoreload extension is already loaded. To reload it, use:\n",
      "  %reload_ext autoreload\n"
     ]
    }
   ],
   "source": [
    "%load_ext autoreload\n",
    "%autoreload 2\n",
    "import tensorflow as tf\n",
    "\n",
    "import numpy as np\n",
    "from ase import Atoms\n",
    "import matplotlib.pyplot as plt\n",
    "\n",
    "from tensorwaves.waves import ProbeWaves\n",
    "from tensorwaves.potentials import Potential"
   ]
  },
  {
   "cell_type": "code",
   "execution_count": 9,
   "metadata": {},
   "outputs": [
    {
     "data": {
      "text/plain": [
       "[<matplotlib.lines.Line2D at 0x121fea6d8>]"
      ]
     },
     "execution_count": 9,
     "metadata": {},
     "output_type": "execute_result"
    },
    {
     "data": {
      "image/png": "[encoded data removed]",
      "text/plain": [
       "<Figure size 432x288 with 1 Axes>"
      ]
     },
     "metadata": {
      "needs_background": "light"
     },
     "output_type": "display_data"
    }
   ],
   "source": [
    "uncorrected = ProbeWaves(extent=16, gpts=512, energy=100e3, aperture_radius=0.0103)\n",
    "uncorrected.positions = (8,8)\n",
    "uncorrected.aberrations.parametrization.defocus = 674\n",
    "uncorrected.aberrations.parametrization.Cs = -1.3e7\n",
    "\n",
    "corrected = ProbeWaves(extent=16, gpts=512, energy=100e3, aperture_radius=0.025)\n",
    "corrected.positions = (8,8)\n",
    "\n",
    "uncorrected_image = np.abs(uncorrected.get_tensor().numpy())**2\n",
    "uncorrected_image /= np.sum(uncorrected_image)\n",
    "\n",
    "corrected_image = np.abs(corrected.get_tensor().numpy())**2\n",
    "corrected_image /= np.sum(corrected_image)\n",
    "\n",
    "normalization = np.max(corrected_image)\n",
    "\n",
    "corrected_image /= normalization\n",
    "uncorrected_image /= normalization\n",
    "\n",
    "plt.plot(uncorrected_image[0,256,64:-64], label='uncorrected')\n",
    "plt.plot(corrected_image[0,256,64:-64], label='corrected')"
   ]
  }
 ],
 "metadata": {
  "kernelspec": {
   "display_name": "tensorwaves",
   "language": "python",
   "name": "tensorwaves"
  },
  "language_info": {
   "codemirror_mode": {
    "name": "ipython",
    "version": 3
   },
   "file_extension": ".py",
   "mimetype": "text/x-python",
   "name": "python",
   "nbconvert_exporter": "python",
   "pygments_lexer": "ipython3",
   "version": "3.6.7"
  }
 },
 "nbformat": 4,
 "nbformat_minor": 2
}
