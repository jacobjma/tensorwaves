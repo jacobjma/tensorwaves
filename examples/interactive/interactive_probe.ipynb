{
 "cells": [
  {
   "cell_type": "markdown",
   "metadata": {},
   "source": [
    "# Interactive Probe"
   ]
  },
  {
   "cell_type": "code",
   "execution_count": 1,
   "metadata": {},
   "outputs": [],
   "source": [
    "%load_ext autoreload\n",
    "%autoreload 2\n",
    "\n",
    "import numpy as np\n",
    "from ase import Atoms\n",
    "from tensorwaves.waves import ProbeWaves\n",
    "from tensorwaves.display import ImageDisplay, display_slider"
   ]
  },
  {
   "cell_type": "code",
   "execution_count": 2,
   "metadata": {},
   "outputs": [
    {
     "data": {
      "application/vnd.jupyter.widget-view+json": {
       "model_id": "2c825e27aebe4bc9baeec573a3f4eb76",
       "version_major": 2,
       "version_minor": 0
      },
      "text/plain": [
       "Box(children=(VBox(children=(HBox(children=(Button(description='Update', style=ButtonStyle()), ToggleButton(va…"
      ]
     },
     "metadata": {},
     "output_type": "display_data"
    }
   ],
   "source": [
    "probe = ProbeWaves(energy=80e3, aperture_radius=.02, gpts=(512,512), extent=(10,10))\n",
    "probe.positions = (5,5)\n",
    "display = ImageDisplay(probe, auto_update=True)\n",
    "display.show()"
   ]
  },
  {
   "cell_type": "code",
   "execution_count": 3,
   "metadata": {},
   "outputs": [
    {
     "data": {
      "application/vnd.jupyter.widget-view+json": {
       "model_id": "c9581b953fad4446ba7aac09dab56ee2",
       "version_major": 2,
       "version_minor": 0
      },
      "text/plain": [
       "FloatSlider(value=0.02, description='radius', max=0.1, min=1e-06, step=0.001)"
      ]
     },
     "metadata": {},
     "output_type": "display_data"
    },
    {
     "data": {
      "application/vnd.jupyter.widget-view+json": {
       "model_id": "116306a5fd32409a8943b59e9b95a497",
       "version_major": 2,
       "version_minor": 0
      },
      "text/plain": [
       "FloatSlider(value=1e-06, description='rolloff', max=0.1, min=1e-06, step=0.001)"
      ]
     },
     "metadata": {},
     "output_type": "display_data"
    },
    {
     "data": {
      "application/vnd.jupyter.widget-view+json": {
       "model_id": "0c2b69433cf8454081398ae34449d220",
       "version_major": 2,
       "version_minor": 0
      },
      "text/plain": [
       "FloatSlider(value=0.0, description='defocus', max=150.0, min=-150.0, step=1.0)"
      ]
     },
     "metadata": {},
     "output_type": "display_data"
    },
    {
     "data": {
      "application/vnd.jupyter.widget-view+json": {
       "model_id": "9b900d9dd09c48c3b71584cd661b4fef",
       "version_major": 2,
       "version_minor": 0
      },
      "text/plain": [
       "FloatSlider(value=0.0, description='Cs', max=10000.0, step=10.0)"
      ]
     },
     "metadata": {},
     "output_type": "display_data"
    },
    {
     "data": {
      "application/vnd.jupyter.widget-view+json": {
       "model_id": "50ea568454074d90a549ab88932aff85",
       "version_major": 2,
       "version_minor": 0
      },
      "text/plain": [
       "FloatSlider(value=0.0, description='C12', max=150.0, min=-150.0, step=1.0)"
      ]
     },
     "metadata": {},
     "output_type": "display_data"
    },
    {
     "data": {
      "application/vnd.jupyter.widget-view+json": {
       "model_id": "1faa03b92f104c9b98a9e4e3de8c9094",
       "version_major": 2,
       "version_minor": 0
      },
      "text/plain": [
       "FloatSlider(value=0.0, description='phi12', max=3.141592653589793, step=0.01)"
      ]
     },
     "metadata": {},
     "output_type": "display_data"
    }
   ],
   "source": [
    "display_slider(probe.aperture, 'radius', min=1e-6, max=.1, step=.001)\n",
    "display_slider(probe.aperture, 'rolloff', min=1e-6, max=.1, step=.001)\n",
    "display_slider(probe.aberrations.parametrization, 'defocus', min=-150, max=150, step=1)\n",
    "display_slider(probe.aberrations.parametrization, 'Cs', min=0, max=1e4, step=10)\n",
    "display_slider(probe.aberrations.parametrization, 'C12', min=-150, max=150, step=1)\n",
    "display_slider(probe.aberrations.parametrization, 'phi12', min=0, max=np.pi, step=.01)"
   ]
  }
 ],
 "metadata": {
  "kernelspec": {
   "display_name": "tensorwaves",
   "language": "python",
   "name": "tensorwaves"
  },
  "language_info": {
   "codemirror_mode": {
    "name": "ipython",
    "version": 3
   },
   "file_extension": ".py",
   "mimetype": "text/x-python",
   "name": "python",
   "nbconvert_exporter": "python",
   "pygments_lexer": "ipython3",
   "version": "3.6.7"
  }
 },
 "nbformat": 4,
 "nbformat_minor": 2
}
