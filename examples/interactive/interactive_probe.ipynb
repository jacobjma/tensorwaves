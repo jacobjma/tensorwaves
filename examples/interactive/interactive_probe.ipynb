{
 "cells": [
  {
   "cell_type": "markdown",
   "metadata": {},
   "source": [
    "# Interactive Probe"
   ]
  },
  {
   "cell_type": "code",
   "execution_count": 118,
   "metadata": {},
   "outputs": [
    {
     "name": "stdout",
     "output_type": "stream",
     "text": [
      "The autoreload extension is already loaded. To reload it, use:\n",
      "  %reload_ext autoreload\n"
     ]
    }
   ],
   "source": [
    "%load_ext autoreload\n",
    "%autoreload 2\n",
    "\n",
    "import numpy as np\n",
    "from tensorwaves.waves import ProbeWaves\n",
    "from tensorwaves.display import ImageDisplay, display_slider"
   ]
  },
  {
   "cell_type": "code",
   "execution_count": 122,
   "metadata": {},
   "outputs": [
    {
     "data": {
      "application/vnd.jupyter.widget-view+json": {
       "model_id": "0048d15554824c4eb5179f4ae12933a3",
       "version_major": 2,
       "version_minor": 0
      },
      "text/plain": [
       "Box(children=(VBox(children=(HBox(children=(Button(description='Update', style=ButtonStyle()), ToggleButton(va…"
      ]
     },
     "metadata": {},
     "output_type": "display_data"
    }
   ],
   "source": [
    "probe = ProbeWaves(energy=80e3, aperture_radius=.02, gpts=(512,512), extent=(10,10))\n",
    "probe.positions = (5,5)\n",
    "display = ImageDisplay(probe, auto_update=True)\n",
    "display.show()"
   ]
  },
  {
   "cell_type": "code",
   "execution_count": 123,
   "metadata": {},
   "outputs": [
    {
     "data": {
      "application/vnd.jupyter.widget-view+json": {
       "model_id": "ed0c3105091749a3858cc813541a1ae9",
       "version_major": 2,
       "version_minor": 0
      },
      "text/plain": [
       "FloatSlider(value=1e-06, description='radius', max=0.1, min=1e-06, step=0.001)"
      ]
     },
     "metadata": {},
     "output_type": "display_data"
    },
    {
     "data": {
      "application/vnd.jupyter.widget-view+json": {
       "model_id": "1574ab1cc9f243fa988cdbe2bc966b6b",
       "version_major": 2,
       "version_minor": 0
      },
      "text/plain": [
       "FloatSlider(value=1e-06, description='rolloff', max=0.1, min=1e-06, step=0.001)"
      ]
     },
     "metadata": {},
     "output_type": "display_data"
    },
    {
     "data": {
      "application/vnd.jupyter.widget-view+json": {
       "model_id": "348c8dde8c0d485aae605b1870f1d321",
       "version_major": 2,
       "version_minor": 0
      },
      "text/plain": [
       "FloatSlider(value=0.0, description='defocus', max=150.0, min=-150.0, step=1.0)"
      ]
     },
     "metadata": {},
     "output_type": "display_data"
    },
    {
     "data": {
      "application/vnd.jupyter.widget-view+json": {
       "model_id": "a130883b690b417692d39d0beafec813",
       "version_major": 2,
       "version_minor": 0
      },
      "text/plain": [
       "FloatSlider(value=0.0, description='Cs', max=1000000.0, step=10.0)"
      ]
     },
     "metadata": {},
     "output_type": "display_data"
    },
    {
     "data": {
      "application/vnd.jupyter.widget-view+json": {
       "model_id": "310d0b8c6d3043abbf5e18d8eb025229",
       "version_major": 2,
       "version_minor": 0
      },
      "text/plain": [
       "FloatSlider(value=0.0, description='C12', max=150.0, min=-150.0, step=1.0)"
      ]
     },
     "metadata": {},
     "output_type": "display_data"
    },
    {
     "data": {
      "application/vnd.jupyter.widget-view+json": {
       "model_id": "0d60bb7759a64030a8b8192100d90a3a",
       "version_major": 2,
       "version_minor": 0
      },
      "text/plain": [
       "FloatSlider(value=0.0, description='phi12', max=3.141592653589793, step=0.01)"
      ]
     },
     "metadata": {},
     "output_type": "display_data"
    }
   ],
   "source": [
    "display_slider(probe.aperture, 'radius', min=1e-6, max=.1, step=.001)\n",
    "display_slider(probe.aperture, 'rolloff', min=1e-6, max=.1, step=.001)\n",
    "display_slider(probe.aberrations.parametrization, 'defocus', min=-150, max=150, step=1)\n",
    "display_slider(probe.aberrations.parametrization, 'Cs', min=0, max=1e6, step=10)\n",
    "display_slider(probe.aberrations.parametrization, 'C12', min=-150, max=150, step=1)\n",
    "display_slider(probe.aberrations.parametrization, 'phi12', min=0, max=np.pi, step=.01)"
   ]
  }
 ],
 "metadata": {
  "kernelspec": {
   "display_name": "tensorwaves",
   "language": "python",
   "name": "tensorwaves"
  },
  "language_info": {
   "codemirror_mode": {
    "name": "ipython",
    "version": 3
   },
   "file_extension": ".py",
   "mimetype": "text/x-python",
   "name": "python",
   "nbconvert_exporter": "python",
   "pygments_lexer": "ipython3",
   "version": "3.6.7"
  }
 },
 "nbformat": 4,
 "nbformat_minor": 2
}
